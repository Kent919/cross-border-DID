{
 "cells": [
  {
   "cell_type": "code",
   "execution_count": 1,
   "id": "4ffa2790-bf2c-4e9d-9def-89cf029789fd",
   "metadata": {},
   "outputs": [
    {
     "ename": "ImportError",
     "evalue": "cannot import name 'normalize_risk_factors' from 'src.utils.data_processor' (/Users/chenkent/Library/CloudStorage/OneDrive-CityUniversityofMacau/城大论文/project-cross-border-did/src/utils/data_processor.py)",
     "output_type": "error",
     "traceback": [
      "\u001b[0;31m---------------------------------------------------------------------------\u001b[0m",
      "\u001b[0;31mImportError\u001b[0m                               Traceback (most recent call last)",
      "Cell \u001b[0;32mIn[1], line 4\u001b[0m\n\u001b[1;32m      2\u001b[0m \u001b[38;5;28;01mimport\u001b[39;00m\u001b[38;5;250m \u001b[39m\u001b[38;5;21;01mmatplotlib\u001b[39;00m\u001b[38;5;21;01m.\u001b[39;00m\u001b[38;5;21;01mpyplot\u001b[39;00m\u001b[38;5;250m \u001b[39m\u001b[38;5;28;01mas\u001b[39;00m\u001b[38;5;250m \u001b[39m\u001b[38;5;21;01mplt\u001b[39;00m\n\u001b[1;32m      3\u001b[0m \u001b[38;5;28;01mfrom\u001b[39;00m\u001b[38;5;250m \u001b[39m\u001b[38;5;21;01msrc\u001b[39;00m\u001b[38;5;21;01m.\u001b[39;00m\u001b[38;5;21;01mcore\u001b[39;00m\u001b[38;5;21;01m.\u001b[39;00m\u001b[38;5;21;01mclustering\u001b[39;00m\u001b[38;5;250m \u001b[39m\u001b[38;5;28;01mimport\u001b[39;00m RiskAdjustedKMeans\n\u001b[0;32m----> 4\u001b[0m \u001b[38;5;28;01mfrom\u001b[39;00m\u001b[38;5;250m \u001b[39m\u001b[38;5;21;01msrc\u001b[39;00m\u001b[38;5;21;01m.\u001b[39;00m\u001b[38;5;21;01mutils\u001b[39;00m\u001b[38;5;21;01m.\u001b[39;00m\u001b[38;5;21;01mdata_processor\u001b[39;00m\u001b[38;5;250m \u001b[39m\u001b[38;5;28;01mimport\u001b[39;00m normalize_risk_factors\n\u001b[1;32m      5\u001b[0m \u001b[38;5;28;01mimport\u001b[39;00m\u001b[38;5;250m \u001b[39m\u001b[38;5;21;01mpandas\u001b[39;00m\u001b[38;5;250m \u001b[39m\u001b[38;5;28;01mas\u001b[39;00m\u001b[38;5;250m \u001b[39m\u001b[38;5;21;01mpd\u001b[39;00m\n\u001b[1;32m      7\u001b[0m \u001b[38;5;66;03m# 加载示例数据\u001b[39;00m\n",
      "\u001b[0;31mImportError\u001b[0m: cannot import name 'normalize_risk_factors' from 'src.utils.data_processor' (/Users/chenkent/Library/CloudStorage/OneDrive-CityUniversityofMacau/城大论文/project-cross-border-did/src/utils/data_processor.py)"
     ]
    }
   ],
   "source": [
    "# 在notebook中展示完整流程\n",
    "import matplotlib.pyplot as plt\n",
    "from src.core.clustering import RiskAdjustedKMeans\n",
    "from src.utils.data_processor import normalize_risk_factors\n",
    "import pandas as pd\n",
    "\n",
    "# 加载示例数据\n",
    "df = pd.read_csv(\"data/examples/sample_data.csv\")\n",
    "\n",
    "# 运行完整流程\n",
    "processed_df = normalize_risk_factors(df)\n",
    "model = RiskAdjustedKMeans(n_clusters=3)\n",
    "model.fit(processed_df[[\"risk_factor\"]].values)\n",
    "\n",
    "# 可视化结果\n",
    "plt.figure(figsize=(10, 6))\n",
    "plt.hist(processed_df['risk_factor'], bins=30, alpha=0.7)\n",
    "plt.title(\"Risk Factor Distribution\")\n",
    "plt.xlabel(\"Normalized Risk Score\")\n",
    "plt.ylabel(\"Frequency\")\n",
    "plt.show()"
   ]
  },
  {
   "cell_type": "code",
   "execution_count": null,
   "id": "1eac32c7-df4c-41e0-a5e7-893d5132caf0",
   "metadata": {},
   "outputs": [],
   "source": []
  }
 ],
 "metadata": {
  "kernelspec": {
   "display_name": "Python 3 (ipykernel)",
   "language": "python",
   "name": "python3"
  },
  "language_info": {
   "codemirror_mode": {
    "name": "ipython",
    "version": 3
   },
   "file_extension": ".py",
   "mimetype": "text/x-python",
   "name": "python",
   "nbconvert_exporter": "python",
   "pygments_lexer": "ipython3",
   "version": "3.9.6"
  }
 },
 "nbformat": 4,
 "nbformat_minor": 5
}
