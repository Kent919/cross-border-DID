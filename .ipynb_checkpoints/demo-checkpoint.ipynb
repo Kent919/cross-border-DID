{
 "cells": [
  {
   "cell_type": "code",
   "execution_count": null,
   "id": "4ffa2790-bf2c-4e9d-9def-89cf029789fd",
   "metadata": {},
   "outputs": [],
   "source": [
    "# 在notebook中展示完整流程\n",
    "import matplotlib.pyplot as plt\n",
    "from src.core.clustering import RiskAdjustedKMeans\n",
    "from src.utils.data_processor import normalize_risk_factors\n",
    "import pandas as pd\n",
    "\n",
    "# 加载示例数据\n",
    "df = pd.read_csv(\"data/examples/sample_data.csv\")\n",
    "\n",
    "# 运行完整流程\n",
    "processed_df = normalize_risk_factors(df)\n",
    "model = RiskAdjustedKMeans(n_clusters=3)\n",
    "model.fit(processed_df[[\"risk_factor\"]].values)\n",
    "\n",
    "# 可视化结果\n",
    "plt.figure(figsize=(10, 6))\n",
    "plt.hist(processed_df['risk_factor'], bins=30, alpha=0.7)\n",
    "plt.title(\"Risk Factor Distribution\")\n",
    "plt.xlabel(\"Normalized Risk Score\")\n",
    "plt.ylabel(\"Frequency\")\n",
    "plt.show()"
   ]
  }
 ],
 "metadata": {
  "kernelspec": {
   "display_name": "Python 3 (ipykernel)",
   "language": "python",
   "name": "python3"
  },
  "language_info": {
   "codemirror_mode": {
    "name": "ipython",
    "version": 3
   },
   "file_extension": ".py",
   "mimetype": "text/x-python",
   "name": "python",
   "nbconvert_exporter": "python",
   "pygments_lexer": "ipython3",
   "version": "3.9.6"
  }
 },
 "nbformat": 4,
 "nbformat_minor": 5
}
